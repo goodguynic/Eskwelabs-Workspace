{
 "cells": [
  {
   "cell_type": "markdown",
   "metadata": {
    "colab_type": "text",
    "id": "51dZwqDNc9x6"
   },
   "source": [
    "# Data Science - Getting Started with Python\n",
    "\n",
    "Following are exercises you should complete. Workflow:\n",
    "\n",
    "1. Complete the exercises! This means fill out the code cells, and run them (shift-enter or click the play button that appears when you're in one of them)\n",
    "2. Take a look at your work, and write comments/add text cells as appropriate to explain\n",
    "3. Upload the notebook to your GitHub repository and submit a link [here](https://docs.google.com/forms/d/e/1FAIpQLScdlw-GN3tHPHxROIulxoPmxXmvK-UmXco3lgjiJ0Ckltn6QA/viewform?usp=sf_link)"
   ]
  },
  {
   "cell_type": "markdown",
   "metadata": {
    "colab_type": "text",
    "id": "I6biutgwdgpb"
   },
   "source": [
    "## Exercise 1 - A bit of Math\n",
    "\n",
    "For these \"word\" problems, use Python to clearly solve them. Your code will \"show your work\" - use good variable names! To show your answers you should write a `print()` statement at the end.\n",
    "\n",
    "### a) It's a gas\n",
    "\n",
    "A taxi driver is calculating their profit over two weeks by adding up the fares they charge and subtracting the cost of gas. The price of gas changes over time - it was `$3.52`/gallon the first week and `$3.57`/gallon this second week. Their car gets 20 miles per gallon.\n",
    "\n",
    "For the first week the driver had a total of 23 passengers with average `$29` fare each, and drove a total of 160 miles. For the second week they had 17 passengers with average `$30` fare each, and drove a total of 220 miles. Assume that for both weeks they purchase all the gas needed during that week (i.e. they refuel every week to maintain a constant level of gas in the tank).\n",
    "\n",
    "Based on the above, answer the following questions:\n",
    "\n",
    "- What is their total profit over both weeks?\n",
    "- During which week was their average (mean) profit per passenger higher?\n"
   ]
  },
  {
   "cell_type": "code",
   "execution_count": 68,
   "metadata": {
    "colab": {},
    "colab_type": "code",
    "id": "CWJeYQW6AoGf"
   },
   "outputs": [
    {
     "data": {
      "text/html": [
       "<div>\n",
       "<style scoped>\n",
       "    .dataframe tbody tr th:only-of-type {\n",
       "        vertical-align: middle;\n",
       "    }\n",
       "\n",
       "    .dataframe tbody tr th {\n",
       "        vertical-align: top;\n",
       "    }\n",
       "\n",
       "    .dataframe thead th {\n",
       "        text-align: right;\n",
       "    }\n",
       "</style>\n",
       "<table border=\"1\" class=\"dataframe\">\n",
       "  <thead>\n",
       "    <tr style=\"text-align: right;\">\n",
       "      <th></th>\n",
       "      <th>gas_price_perGallon</th>\n",
       "      <th>car_mileage_perGallon</th>\n",
       "      <th>miles_travelled</th>\n",
       "      <th>ave_fare</th>\n",
       "      <th>passenger_count</th>\n",
       "      <th>week_num</th>\n",
       "      <th>profit</th>\n",
       "    </tr>\n",
       "  </thead>\n",
       "  <tbody>\n",
       "    <tr>\n",
       "      <th>0</th>\n",
       "      <td>3.52</td>\n",
       "      <td>20</td>\n",
       "      <td>160</td>\n",
       "      <td>29</td>\n",
       "      <td>23</td>\n",
       "      <td>1</td>\n",
       "      <td>NaN</td>\n",
       "    </tr>\n",
       "    <tr>\n",
       "      <th>1</th>\n",
       "      <td>3.57</td>\n",
       "      <td>20</td>\n",
       "      <td>220</td>\n",
       "      <td>30</td>\n",
       "      <td>17</td>\n",
       "      <td>2</td>\n",
       "      <td>NaN</td>\n",
       "    </tr>\n",
       "  </tbody>\n",
       "</table>\n",
       "</div>"
      ],
      "text/plain": [
       "   gas_price_perGallon  car_mileage_perGallon  miles_travelled  ave_fare  \\\n",
       "0                 3.52                     20              160        29   \n",
       "1                 3.57                     20              220        30   \n",
       "\n",
       "   passenger_count  week_num  profit  \n",
       "0               23         1     NaN  \n",
       "1               17         2     NaN  "
      ]
     },
     "metadata": {},
     "output_type": "display_data"
    }
   ],
   "source": [
    "import pandas as pd\n",
    "import numpy as np\n",
    "df_a=pd.DataFrame({'gas_price_perGallon':[3.52, 3.57] ,'car_mileage_perGallon':[20,20],'miles_travelled':[160, 220] ,'ave_fare':[29, 30] ,'passenger_count':[23, 17], 'week_num':[1,2]})\n",
    "df_a['profit']= np.nan\n",
    "display(df_a)"
   ]
  },
  {
   "cell_type": "code",
   "execution_count": 87,
   "metadata": {},
   "outputs": [
    {
     "data": {
      "text/html": [
       "<div>\n",
       "<style scoped>\n",
       "    .dataframe tbody tr th:only-of-type {\n",
       "        vertical-align: middle;\n",
       "    }\n",
       "\n",
       "    .dataframe tbody tr th {\n",
       "        vertical-align: top;\n",
       "    }\n",
       "\n",
       "    .dataframe thead th {\n",
       "        text-align: right;\n",
       "    }\n",
       "</style>\n",
       "<table border=\"1\" class=\"dataframe\">\n",
       "  <thead>\n",
       "    <tr style=\"text-align: right;\">\n",
       "      <th></th>\n",
       "      <th>gas_price_perGallon</th>\n",
       "      <th>car_mileage_perGallon</th>\n",
       "      <th>miles_travelled</th>\n",
       "      <th>ave_fare</th>\n",
       "      <th>passenger_count</th>\n",
       "      <th>week_num</th>\n",
       "      <th>profit</th>\n",
       "    </tr>\n",
       "  </thead>\n",
       "  <tbody>\n",
       "    <tr>\n",
       "      <th>0</th>\n",
       "      <td>3.52</td>\n",
       "      <td>20</td>\n",
       "      <td>160</td>\n",
       "      <td>29</td>\n",
       "      <td>23</td>\n",
       "      <td>1</td>\n",
       "      <td>638.84</td>\n",
       "    </tr>\n",
       "    <tr>\n",
       "      <th>1</th>\n",
       "      <td>3.57</td>\n",
       "      <td>20</td>\n",
       "      <td>220</td>\n",
       "      <td>30</td>\n",
       "      <td>17</td>\n",
       "      <td>2</td>\n",
       "      <td>470.73</td>\n",
       "    </tr>\n",
       "  </tbody>\n",
       "</table>\n",
       "</div>"
      ],
      "text/plain": [
       "   gas_price_perGallon  car_mileage_perGallon  miles_travelled  ave_fare  \\\n",
       "0                 3.52                     20              160        29   \n",
       "1                 3.57                     20              220        30   \n",
       "\n",
       "   passenger_count  week_num  profit  \n",
       "0               23         1  638.84  \n",
       "1               17         2  470.73  "
      ]
     },
     "metadata": {},
     "output_type": "display_data"
    }
   ],
   "source": [
    "for i in list(df_a.index.values):\n",
    "    df_a.iloc[i, -1] = ((df_a.ave_fare[i]*df_a.passenger_count[i]) - (df_a.gas_price_perGallon[i]/df_a.car_mileage_perGallon[i]*df_a.miles_travelled[i]))\n",
    "display(df_a)"
   ]
  },
  {
   "cell_type": "markdown",
   "metadata": {
    "colab_type": "text",
    "id": "0l4bUPHmR5Ko"
   },
   "source": [
    "### b) Mo' money...\n",
    "\n",
    "A cash drawer contains 160 bills, all 10s and 50s. The total value of the 10s and 50s is $1,760.\n",
    "\n",
    "How many of each type of bill are in the drawer? You can figure this out by trial and error (or by doing algebra with pencil and paper), but try to use loops and conditionals to check a plausible possibilities and stop when you find the correct one."
   ]
  },
  {
   "cell_type": "code",
   "execution_count": 83,
   "metadata": {
    "colab": {},
    "colab_type": "code",
    "id": "Q2Atz_kyR8_6"
   },
   "outputs": [
    {
     "name": "stdout",
     "output_type": "stream",
     "text": [
      "{'50s': [4], '10s': [156]}\n"
     ]
    }
   ],
   "source": [
    "# your code here\n",
    "combinations = {'50s':[], '10s':[]}\n",
    "total_bill_count = 160\n",
    "x=1\n",
    "while(x < 160):\n",
    "    weight_50 = 50*x\n",
    "    weight_10 = 10*(160-x)\n",
    "    if (weight_50+weight_10 == 1760):\n",
    "        combinations['50s'].append(x)\n",
    "        combinations['10s'].append(160-x)\n",
    "    x+=1\n",
    "print(combinations)"
   ]
  },
  {
   "cell_type": "markdown",
   "metadata": {
    "colab_type": "text",
    "id": "UCFtX_q9aQlc"
   },
   "source": [
    "## Exercise 2 - Drawing a plot\n",
    "\n",
    "Use NumPy and Matplotlib to draw a scatterplot of uniform random `(x, y)` values all drawn from the `[0, 1]` interval. Helpful documentation:\n",
    "\n",
    "*   https://matplotlib.org/tutorials/index.html\n",
    "*   https://docs.scipy.org/doc/numpy/user/quickstart.html\n",
    "\n",
    "Stretch goal - draw more plots! You can refer to the [Matplotlib gallery](https://matplotlib.org/gallery.html) for inspiration, but don't just reproduce something - try to apply it to your own data.\n",
    "\n",
    "How to get data? There's *many* ways, but a good place to get started is with [sklearn.datasets](http://scikit-learn.org/stable/datasets/index.html):\n",
    "\n",
    "```\n",
    "from sklearn import datasets\n",
    "dir(datasets)\n",
    "```"
   ]
  },
  {
   "cell_type": "code",
   "execution_count": 1,
   "metadata": {
    "colab": {},
    "colab_type": "code",
    "id": "pNEb09gMaltL"
   },
   "outputs": [
    {
     "data": {
      "image/png": "[encoded data removed]",
      "text/plain": [
       "<Figure size 432x288 with 1 Axes>"
      ]
     },
     "metadata": {},
     "output_type": "display_data"
    }
   ],
   "source": [
    "import pandas as pd\n",
    "import numpy as np\n",
    "import matplotlib.pyplot as plt\n",
    "#from mpl_toolkits.mplot3d import Axes3D\n",
    "#import matplotlib as mpl\n",
    "#import seaborn as sns\n",
    "%matplotlib inline\n",
    "# your code here\n",
    "\n",
    "def split_list(a_list):\n",
    "    half = len(a_list)//2\n",
    "    return a_list[:half], a_list[half:]\n",
    "\n",
    "colors = ('red', 'blue', 'green')\n",
    "area = np.pi*3\n",
    "\n",
    "np.random.seed(3)\n",
    "#bound = list(range(0,1))\n",
    "x, y = split_list(np.random.random_sample(size=98))\n",
    "\n",
    "plt.scatter(x, y, s=area, c=colors, alpha=0.5)\n",
    "plt.title('Scatter plot')\n",
    "plt.xlabel('x')\n",
    "plt.ylabel('y')\n",
    "plt.show()"
   ]
  },
  {
   "cell_type": "code",
   "execution_count": null,
   "metadata": {},
   "outputs": [],
   "source": []
  }
 ],
 "metadata": {
  "colab": {
   "collapsed_sections": [],
   "name": "LSDS Intro Assignment 1 - Getting Started with Python.ipynb",
   "provenance": [],
   "version": "0.3.2"
  },
  "kernelspec": {
   "display_name": "Python 3",
   "language": "python",
   "name": "python3"
  },
  "language_info": {
   "codemirror_mode": {
    "name": "ipython",
    "version": 3
   },
   "file_extension": ".py",
   "mimetype": "text/x-python",
   "name": "python",
   "nbconvert_exporter": "python",
   "pygments_lexer": "ipython3",
   "version": "3.6.5"
  }
 },
 "nbformat": 4,
 "nbformat_minor": 1
}
